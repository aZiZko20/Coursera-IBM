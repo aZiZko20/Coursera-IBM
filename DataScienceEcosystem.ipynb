{
 "cells": [
  {
   "cell_type": "markdown",
   "id": "937e8b3b",
   "metadata": {},
   "source": [
    "# Data Science tools and Ecosystem"
   ]
  },
  {
   "cell_type": "markdown",
   "id": "acf09be2",
   "metadata": {},
   "source": [
    "## Introduction\n",
    "In this notebook, Data Science Tools and Ecosystem are summarized."
   ]
  },
  {
   "cell_type": "markdown",
   "id": "54c2aaff",
   "metadata": {},
   "source": [
    "**Objectives:**\n",
    "* Creating an ordered list of Data Scienec languages and libraries\n",
    "* Executing simple arethmetic code snippets\n",
    "* Commenting on the code snippets\n",
    "* Listing different Data Science tools "
   ]
  },
  {
   "cell_type": "markdown",
   "id": "5b420355",
   "metadata": {},
   "source": [
    "Some of the popular languages that Data Scientists use are: \n",
    "1. Python\n",
    "2. R/Rstudio\n",
    "3. Julia\n",
    "4. Java\n",
    "5. C/C++\n"
   ]
  },
  {
   "cell_type": "markdown",
   "id": "0981adff",
   "metadata": {},
   "source": [
    "Some of the commonly used libraries used by Data Scientists include:\n",
    "1. Pandas\n",
    "2. Keras\n",
    "3. NumPy\n",
    "4. Tensorflow\n",
    "5. Matplotlib\n"
   ]
  },
  {
   "cell_type": "markdown",
   "id": "0bf0f25e",
   "metadata": {},
   "source": [
    "Data Science Tools |\n",
    "---------------------------\n",
    "Jupyter Notebooks |\n",
    "RStudio |\n",
    "Visual Studio Code |\n",
    "Apache Zeppelin |\n"
   ]
  },
  {
   "cell_type": "markdown",
   "id": "12bf1dff",
   "metadata": {},
   "source": [
    "### Below are a few examples of evaluating arithmetic expressions in Python"
   ]
  },
  {
   "cell_type": "code",
   "execution_count": 1,
   "id": "2d6c7a78",
   "metadata": {},
   "outputs": [
    {
     "data": {
      "text/plain": [
       "17"
      ]
     },
     "execution_count": 1,
     "metadata": {},
     "output_type": "execute_result"
    }
   ],
   "source": [
    "# This a simple arithmetic expression to mutiply then add integers\n",
    "(3*4)+5"
   ]
  },
  {
   "cell_type": "code",
   "execution_count": 3,
   "id": "b690b21b",
   "metadata": {},
   "outputs": [
    {
     "data": {
      "text/plain": [
       "3.3333333333333335"
      ]
     },
     "execution_count": 3,
     "metadata": {},
     "output_type": "execute_result"
    }
   ],
   "source": [
    "# This will convert 200 minutes to hours by diving by 60\n",
    "min = 200\n",
    "denom = 60\n",
    "hrs = min/denom\n",
    "hrs"
   ]
  },
  {
   "cell_type": "markdown",
   "id": "4ed14ad1",
   "metadata": {},
   "source": [
    "## Author\n",
    "Abdulaziz Alqattan"
   ]
  }
 ],
 "metadata": {
  "kernelspec": {
   "display_name": "Python 3 (ipykernel)",
   "language": "python",
   "name": "python3"
  },
  "language_info": {
   "codemirror_mode": {
    "name": "ipython",
    "version": 3
   },
   "file_extension": ".py",
   "mimetype": "text/x-python",
   "name": "python",
   "nbconvert_exporter": "python",
   "pygments_lexer": "ipython3",
   "version": "3.10.9"
  }
 },
 "nbformat": 4,
 "nbformat_minor": 5
}
